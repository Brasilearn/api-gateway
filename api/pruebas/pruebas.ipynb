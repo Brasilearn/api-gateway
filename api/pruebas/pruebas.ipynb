{
 "cells": [
  {
   "cell_type": "code",
   "execution_count": 9,
   "metadata": {},
   "outputs": [],
   "source": [
    "import os\n",
    "import sys\n",
    "import openai\n",
    "__file__ = '../../'\n",
    "BASE_DIR = os.path.dirname(os.path.abspath(__file__))\n",
    "sys.path.append(os.path.abspath(__file__))  # Agrega el directorio anterior al PATH\n",
    "\n",
    "from drf import settings\n"
   ]
  },
  {
   "cell_type": "code",
   "execution_count": 4,
   "metadata": {},
   "outputs": [],
   "source": [
    "prompt = 'Ayuda a saludar en portugues'"
   ]
  },
  {
   "cell_type": "code",
   "execution_count": 5,
   "metadata": {},
   "outputs": [],
   "source": [
    "mensajes = [\n",
    "    {\"role\": \"system\", \"content\": \"Eres un asistente virtual que ayuda con preguntas de español a portugues y viceversa.\"},\n",
    "    {\"role\": \"user\", \"content\": prompt},\n",
    "]"
   ]
  },
  {
   "cell_type": "code",
   "execution_count": 10,
   "metadata": {},
   "outputs": [
    {
     "ename": "NameError",
     "evalue": "name 'mensajes' is not defined",
     "output_type": "error",
     "traceback": [
      "\u001b[1;31m---------------------------------------------------------------------------\u001b[0m",
      "\u001b[1;31mNameError\u001b[0m                                 Traceback (most recent call last)",
      "Cell \u001b[1;32mIn[10], line 5\u001b[0m\n\u001b[0;32m      1\u001b[0m openai\u001b[38;5;241m.\u001b[39mapi_key \u001b[38;5;241m=\u001b[39m settings\u001b[38;5;241m.\u001b[39mAPI_KEY_OPENAI\n\u001b[0;32m      3\u001b[0m respuesta \u001b[38;5;241m=\u001b[39m openai\u001b[38;5;241m.\u001b[39mchat\u001b[38;5;241m.\u001b[39mcompletions\u001b[38;5;241m.\u001b[39mcreate(\n\u001b[0;32m      4\u001b[0m     model \u001b[38;5;241m=\u001b[39m \u001b[38;5;124m'\u001b[39m\u001b[38;5;124mgpt-3.5-turbo\u001b[39m\u001b[38;5;124m'\u001b[39m,\n\u001b[1;32m----> 5\u001b[0m     messages \u001b[38;5;241m=\u001b[39m \u001b[43mmensajes\u001b[49m,\n\u001b[0;32m      6\u001b[0m     max_tokens \u001b[38;5;241m=\u001b[39m \u001b[38;5;241m100\u001b[39m,\n\u001b[0;32m      7\u001b[0m     temperature \u001b[38;5;241m=\u001b[39m \u001b[38;5;241m0\u001b[39m,\n\u001b[0;32m      8\u001b[0m )\n",
      "\u001b[1;31mNameError\u001b[0m: name 'mensajes' is not defined"
     ]
    }
   ],
   "source": [
    "openai.api_key = settings.API_KEY_OPENAI\n",
    "\n",
    "respuesta = openai.chat.completions.create(\n",
    "    model = 'gpt-3.5-turbo',\n",
    "    messages = mensajes,\n",
    "    max_tokens = 100,\n",
    "    temperature = 0,\n",
    ")"
   ]
  },
  {
   "cell_type": "code",
   "execution_count": 7,
   "metadata": {},
   "outputs": [
    {
     "name": "stdout",
     "output_type": "stream",
     "text": [
      "¡Claro! Aquí tienes algunas formas de saludar en portugués:\n",
      "\n",
      "- Hola: Olá\n",
      "- Buenos días: Bom dia\n",
      "- Buenas tardes: Boa tarde\n",
      "- Buenas noches: Boa noite\n",
      "\n",
      "Espero que te sean útiles. ¿Hay algo más en lo que pueda ayudarte?\n"
     ]
    }
   ],
   "source": [
    "print(respuesta.choices[0].message.content)"
   ]
  },
  {
   "cell_type": "code",
   "execution_count": 55,
   "metadata": {},
   "outputs": [],
   "source": [
    "def obtener_completion( contexto , model = 'gpt-3.5-turbo'):\n",
    "    mensaje = openai.chat.completions.create(\n",
    "        model = model,\n",
    "        messages = contexto,\n",
    "        max_tokens = 100,\n",
    "        temperature = 0,\n",
    "    )\n",
    "    return mensaje.choices[0].message.content"
   ]
  },
  {
   "cell_type": "code",
   "execution_count": 56,
   "metadata": {},
   "outputs": [],
   "source": [
    "contexto = [\n",
    "    {\"role\": \"system\", \"content\": \"Eres un asistente virtual que ayuda con preguntas de español a portugues y viceversa.\"},\n",
    "    {\"role\": \"user\", \"content\": \"Ayudame a saludar en portugues\"},\n",
    "]\n",
    "\n",
    "respuesta = obtener_completion(contexto)"
   ]
  },
  {
   "cell_type": "code",
   "execution_count": 57,
   "metadata": {},
   "outputs": [
    {
     "name": "stdout",
     "output_type": "stream",
     "text": [
      "¡Claro! Para saludar en portugués puedes decir \"Olá\" que significa \"Hola\" o \"Bom dia\" que significa \"Buenos días\". ¿Hay algo más en lo que pueda ayudarte?\n"
     ]
    }
   ],
   "source": [
    "print(respuesta)"
   ]
  },
  {
   "cell_type": "code",
   "execution_count": 58,
   "metadata": {},
   "outputs": [
    {
     "name": "stdout",
     "output_type": "stream",
     "text": [
      "[{'role': 'user', 'content': 'Ayudame a saludar en portugues'}, {'role': 'system', 'content': '¡Claro! Para saludar en portugués puedes decir \"Olá\" que significa \"Hola\" o \"Bom dia\" que significa \"Buenos días\". ¿Hay algo más en lo que pueda ayudarte?'}]\n"
     ]
    }
   ],
   "source": [
    "# Crearemos un varaible global que contenga el contexto de la conversacion\n",
    "\n",
    "contexto = [{\"role\": \"assistant\", \"content\": \"Ayudame a saludar en portugues\"}]\n",
    "\n",
    "contento = contexto + [{\"role\": \"system\", \"content\": respuesta}]\n",
    "\n",
    "print(contento)"
   ]
  },
  {
   "cell_type": "code",
   "execution_count": 5,
   "metadata": {},
   "outputs": [],
   "source": [
    "contexto = [\n",
    "    {\"role\": \"system\", \"content\": \"Eres un asistente virtual que ayuda con preguntas de español a portugues y viceversa.\"},\n",
    "    {\"role\": \"user\", \"content\": \"Ayudame a saludar en portugues\"},\n",
    "]"
   ]
  },
  {
   "cell_type": "code",
   "execution_count": 11,
   "metadata": {},
   "outputs": [
    {
     "ename": "NameError",
     "evalue": "name 'contexto' is not defined",
     "output_type": "error",
     "traceback": [
      "\u001b[1;31m---------------------------------------------------------------------------\u001b[0m",
      "\u001b[1;31mNameError\u001b[0m                                 Traceback (most recent call last)",
      "Cell \u001b[1;32mIn[11], line 9\u001b[0m\n\u001b[0;32m      1\u001b[0m \u001b[38;5;28;01mfrom\u001b[39;00m \u001b[38;5;21;01mgroq\u001b[39;00m \u001b[38;5;28;01mimport\u001b[39;00m Groq\n\u001b[0;32m      3\u001b[0m groq_client \u001b[38;5;241m=\u001b[39mGroq(\n\u001b[0;32m      4\u001b[0m     api_key \u001b[38;5;241m=\u001b[39m settings\u001b[38;5;241m.\u001b[39mAPI_KEY_GROQ,\n\u001b[0;32m      5\u001b[0m )\n\u001b[0;32m      7\u001b[0m respuesta \u001b[38;5;241m=\u001b[39m groq_client\u001b[38;5;241m.\u001b[39mchat\u001b[38;5;241m.\u001b[39mcompletions\u001b[38;5;241m.\u001b[39mcreate(\n\u001b[0;32m      8\u001b[0m     model \u001b[38;5;241m=\u001b[39m \u001b[38;5;124m'\u001b[39m\u001b[38;5;124mllama3-8b-8192\u001b[39m\u001b[38;5;124m'\u001b[39m,\n\u001b[1;32m----> 9\u001b[0m     messages \u001b[38;5;241m=\u001b[39m \u001b[43mcontexto\u001b[49m, \n\u001b[0;32m     10\u001b[0m     max_tokens \u001b[38;5;241m=\u001b[39m \u001b[38;5;241m300\u001b[39m,   \n\u001b[0;32m     11\u001b[0m     temperature \u001b[38;5;241m=\u001b[39m \u001b[38;5;241m0\u001b[39m,\n\u001b[0;32m     12\u001b[0m )\n",
      "\u001b[1;31mNameError\u001b[0m: name 'contexto' is not defined"
     ]
    }
   ],
   "source": [
    "from groq import Groq\n",
    "\n",
    "groq_client =Groq(\n",
    "    api_key = settings.API_KEY_GROQ,\n",
    ")\n",
    "\n",
    "respuesta = groq_client.chat.completions.create(\n",
    "    model = 'llama3-8b-8192',\n",
    "    messages = contexto, \n",
    "    max_tokens = 300,   \n",
    "    temperature = 0,\n",
    ")"
   ]
  },
  {
   "cell_type": "code",
   "execution_count": 12,
   "metadata": {},
   "outputs": [
    {
     "ename": "NameError",
     "evalue": "name 'respuesta' is not defined",
     "output_type": "error",
     "traceback": [
      "\u001b[1;31m---------------------------------------------------------------------------\u001b[0m",
      "\u001b[1;31mNameError\u001b[0m                                 Traceback (most recent call last)",
      "Cell \u001b[1;32mIn[12], line 1\u001b[0m\n\u001b[1;32m----> 1\u001b[0m \u001b[38;5;28mprint\u001b[39m(\u001b[43mrespuesta\u001b[49m\u001b[38;5;241m.\u001b[39mchoices[\u001b[38;5;241m0\u001b[39m]\u001b[38;5;241m.\u001b[39mmessage\u001b[38;5;241m.\u001b[39mcontent)\n",
      "\u001b[1;31mNameError\u001b[0m: name 'respuesta' is not defined"
     ]
    }
   ],
   "source": [
    "print(respuesta.choices[0].message.content)"
   ]
  },
  {
   "cell_type": "code",
   "execution_count": 15,
   "metadata": {},
   "outputs": [
    {
     "name": "stdout",
     "output_type": "stream",
     "text": [
      "[]\n"
     ]
    }
   ],
   "source": [
    "contexto = [{\n",
    "            \"data\": [],\n",
    "            \"personalidad\": \"sad\",\n",
    "        }]\n",
    "print(contexto[0]['data'])"
   ]
  },
  {
   "cell_type": "code",
   "execution_count": 20,
   "metadata": {},
   "outputs": [
    {
     "name": "stdout",
     "output_type": "stream",
     "text": [
      "Recording...\n",
      "Recording finished\n",
      "Transcription:  kawal e o seu nome\n"
     ]
    }
   ],
   "source": [
    "import os\n",
    "import sounddevice as sd\n",
    "from scipy.io.wavfile import write\n",
    "from groq import Groq\n",
    "\n",
    "def record_audio(filename, duration=5, samplerate=44100):\n",
    "    print(\"Recording...\")\n",
    "    audio = sd.rec(int(duration * samplerate), samplerate=samplerate, channels=2, dtype='int16')\n",
    "    sd.wait()  # Esperar a que termine la grabación\n",
    "    write(filename, samplerate, audio)  # Guardar el archivo de audio\n",
    "    print(\"Recording finished\")\n",
    "\n",
    "def transcribe_audio(filename, api_key):\n",
    "    client = Groq(api_key=api_key)\n",
    "\n",
    "    with open(filename, \"rb\") as file:\n",
    "        #translations\n",
    "        #transcriptions\n",
    "        transcription = client.audio.transcriptions.create(\n",
    "            file=(filename, file.read()),\n",
    "            model=\"whisper-large-v3\",\n",
    "            prompt=\"Specify context or spelling\",  # Opcional\n",
    "            response_format=\"json\",  # Opcional\n",
    "            language=\"pt\",  # Opcional\n",
    "            temperature=0.0  # Opcional\n",
    "        )\n",
    "        return transcription.text\n",
    "\n",
    "def main():\n",
    "    audio_filename = \"recorded_audio.wav\"\n",
    "    api_key = settings.API_KEY_GROQ  # Reemplaza con tu API key de Groq\n",
    "    record_audio(audio_filename, duration=5)  # Grabar 5 segundos de audio\n",
    "    transcription = transcribe_audio(audio_filename, api_key)\n",
    "    print(\"Transcription:\", transcription)\n",
    "\n",
    "if __name__ == \"__main__\":\n",
    "    main()\n",
    "\n",
    "# pip install sounddevice scipy"
   ]
  },
  {
   "cell_type": "code",
   "execution_count": 24,
   "metadata": {},
   "outputs": [
    {
     "name": "stdout",
     "output_type": "stream",
     "text": [
      "Recording...\n",
      "Recording finished\n",
      "Transcription:  O que está acontecendo? Texto de referência para comparar.\n",
      "Pronunciation score: 0.71\n"
     ]
    }
   ],
   "source": [
    "import os\n",
    "import sounddevice as sd\n",
    "from scipy.io.wavfile import write\n",
    "from groq import Groq\n",
    "from difflib import SequenceMatcher\n",
    "\n",
    "def record_audio(filename, duration=5, samplerate=44100):\n",
    "    print(\"Recording...\")\n",
    "    audio = sd.rec(int(duration * samplerate), samplerate=samplerate, channels=2, dtype='int16')\n",
    "    sd.wait()  # Esperar a que termine la grabación\n",
    "    write(filename, samplerate, audio)  # Guardar el archivo de audio\n",
    "    print(\"Recording finished\")\n",
    "\n",
    "def transcribe_audio(filename, api_key):\n",
    "    client = Groq(api_key=api_key)\n",
    "\n",
    "    with open(filename, \"rb\") as file:\n",
    "        transcription = client.audio.transcriptions.create(\n",
    "            file=(filename, file.read()),\n",
    "            model=\"whisper-large-v3\",\n",
    "            prompt=\"\",  # Opcional\n",
    "            response_format=\"json\",  # Opcional\n",
    "            language=\"pt\",  # Cambiar a portugués\n",
    "            temperature=0.0  # Opcional\n",
    "        )\n",
    "        return transcription.text\n",
    "\n",
    "def compare_transcription(transcription, reference_text):\n",
    "    # Usar SequenceMatcher para comparar la transcripción con el texto de referencia\n",
    "    matcher = SequenceMatcher(None, transcription, reference_text)\n",
    "    score = matcher.ratio()  # Obtener la similitud entre los dos textos\n",
    "    return score\n",
    "\n",
    "def evaluate_pronunciation(reference_text, duration=5):\n",
    "    audio_filename = \"recorded_audio.wav\"\n",
    "    api_key = os.getenv(\"API_KEY_GROQ\")\n",
    "    if not api_key:\n",
    "        raise ValueError(\"La variable de entorno GROQ_API_KEY no está configurada.\")\n",
    "\n",
    "    record_audio(audio_filename, duration=duration)  # Grabar el audio\n",
    "    transcription = transcribe_audio(audio_filename, api_key)  # Transcribir el audio\n",
    "    print(f\"Transcription: {transcription}\")\n",
    "    \n",
    "    score = compare_transcription(transcription, reference_text)  # Comparar con el texto de referencia\n",
    "    print(f\"Pronunciation score: {score:.2f}\")\n",
    "\n",
    "    return score\n",
    "\n",
    "if __name__ == \"__main__\":\n",
    "    reference_text = \"Este é o texto de referência para comparar.\"  # Texto de referencia en portugués\n",
    "    evaluate_pronunciation(reference_text, duration=5)\n"
   ]
  },
  {
   "cell_type": "code",
   "execution_count": 13,
   "metadata": {},
   "outputs": [
    {
     "name": "stdout",
     "output_type": "stream",
     "text": [
      "e:\\api-rest-django/media/audios\n"
     ]
    }
   ],
   "source": [
    "OUTPUT_DIR = BASE_DIR + \"api-gateway/media/audios\"\n",
    "print(OUTPUT_DIR)"
   ]
  },
  {
   "cell_type": "code",
   "execution_count": 16,
   "metadata": {},
   "outputs": [
    {
     "name": "stdout",
     "output_type": "stream",
     "text": [
      "sk_6c32b7434c09b33b117d326bcc039414e8bf5fbdbf3109220\n"
     ]
    }
   ],
   "source": []
  },
  {
   "cell_type": "code",
   "execution_count": 35,
   "metadata": {},
   "outputs": [
    {
     "name": "stdout",
     "output_type": "stream",
     "text": [
      "Audio stream saved successfully to e:\\api-rest-django/api-gateway/media/audios/topic_5\\1.mp3.\n",
      "Audio stream saved successfully to e:\\api-rest-django/api-gateway/media/audios/topic_5\\2.mp3.\n",
      "Audio stream saved successfully to e:\\api-rest-django/api-gateway/media/audios/topic_5\\3.mp3.\n",
      "Audio stream saved successfully to e:\\api-rest-django/api-gateway/media/audios/topic_5\\4.mp3.\n",
      "Audio stream saved successfully to e:\\api-rest-django/api-gateway/media/audios/topic_5\\5.mp3.\n",
      "Audio stream saved successfully to e:\\api-rest-django/api-gateway/media/audios/topic_5\\6.mp3.\n",
      "Audio stream saved successfully to e:\\api-rest-django/api-gateway/media/audios/topic_5\\7.mp3.\n",
      "Audio stream saved successfully to e:\\api-rest-django/api-gateway/media/audios/topic_5\\8.mp3.\n",
      "Audio stream saved successfully to e:\\api-rest-django/api-gateway/media/audios/topic_5\\9.mp3.\n",
      "Audio stream saved successfully to e:\\api-rest-django/api-gateway/media/audios/topic_5\\10.mp3.\n",
      "Audio stream saved successfully to e:\\api-rest-django/api-gateway/media/audios/topic_5\\11.mp3.\n",
      "Audio stream saved successfully to e:\\api-rest-django/api-gateway/media/audios/topic_5\\12.mp3.\n",
      "Audio stream saved successfully to e:\\api-rest-django/api-gateway/media/audios/topic_5\\13.mp3.\n",
      "Audio stream saved successfully to e:\\api-rest-django/api-gateway/media/audios/topic_5\\14.mp3.\n",
      "Audio stream saved successfully to e:\\api-rest-django/api-gateway/media/audios/topic_5\\15.mp3.\n",
      "Audio stream saved successfully to e:\\api-rest-django/api-gateway/media/audios/topic_5\\16.mp3.\n",
      "Audio stream saved successfully to e:\\api-rest-django/api-gateway/media/audios/topic_5\\17.mp3.\n",
      "Audio stream saved successfully to e:\\api-rest-django/api-gateway/media/audios/topic_5\\18.mp3.\n",
      "Audio stream saved successfully to e:\\api-rest-django/api-gateway/media/audios/topic_5\\19.mp3.\n",
      "Audio stream saved successfully to e:\\api-rest-django/api-gateway/media/audios/topic_5\\20.mp3.\n",
      "Audio stream saved successfully to e:\\api-rest-django/api-gateway/media/audios/topic_5\\21.mp3.\n",
      "Audio stream saved successfully to e:\\api-rest-django/api-gateway/media/audios/topic_5\\22.mp3.\n",
      "Audio stream saved successfully to e:\\api-rest-django/api-gateway/media/audios/topic_5\\23.mp3.\n",
      "Audio stream saved successfully to e:\\api-rest-django/api-gateway/media/audios/topic_5\\24.mp3.\n",
      "Audio stream saved successfully to e:\\api-rest-django/api-gateway/media/audios/topic_5\\25.mp3.\n"
     ]
    }
   ],
   "source": [
    "import requests\n",
    "import os\n",
    "\n",
    "# Constantes para el script\n",
    "CHUNK_SIZE = 1024  # Tamaño de los bloques para lectura/escritura\n",
    "XI_API_KEY = '' # Tu clave API para autenticación\n",
    "VOICE_ID = \"33B4UnXyTNbgLmdEDh5P\"  # ID del modelo de voz a ser usado\n",
    "TEXTS_TO_SPEAK_T5 = [\n",
    "    \"Eu gosto de maçã.\",\n",
    "    \"A banana está madura.\",\n",
    "    \"Vamos comprar uvas.\",\n",
    "    \"O tomate é vermelho.\",\n",
    "    \"Eu preciso de batatas.\",\n",
    "    \"Eu quero um suco de laranja.\",\n",
    "    \"Vamos pedir uma pizza.\",\n",
    "    \"O garçom é muito simpático.\",\n",
    "    \"Eu vou tomar um café.\",\n",
    "    \"A sobremesa está deliciosa.\",\n",
    "    \"O sorvete está derretendo.\",\n",
    "    \"Eu prefiro chocolate.\",\n",
    "    \"Vamos beber água.\",\n",
    "    \"O bolo de morango é o meu favorito.\",\n",
    "    \"O suco de manga é refrescante.\",\n",
    "    \"Eu adoro cozinhar.\",\n",
    "    \"Vamos preparar uma salada.\",\n",
    "    \"O arroz está quase pronto.\",\n",
    "    \"Preciso de uma receita nova.\",\n",
    "    \"Vamos assar um bolo.\",\n",
    "    \"A feijoada é um prato típico brasileiro.\",\n",
    "    \"Eu gosto de bacalhau à portuguesa.\",\n",
    "    \"A moqueca é deliciosa.\",\n",
    "    \"O churrasco é muito popular no Brasil.\",\n",
    "    \"A caipirinha é uma bebida tradicional.\"\n",
    "]  # Lista de textos a ser convertidos en voz\n",
    "OUTPUT_DIR = BASE_DIR + \"/api-gateway/media/audios/topic_5\"  # Directorio para guardar los archivos de audio\n",
    "\n",
    "# Verifica si el directorio de salida existe, si no, lo crea\n",
    "if not os.path.exists(OUTPUT_DIR):\n",
    "    os.makedirs(OUTPUT_DIR)\n",
    "\n",
    "# URL para la solicitud de la API de Text-to-Speech\n",
    "tts_url = f\"https://api.elevenlabs.io/v1/text-to-speech/{VOICE_ID}/stream\"\n",
    "\n",
    "# Encabezados para la solicitud, incluyendo la clave API para autenticación\n",
    "headers = {\n",
    "    \"Accept\": \"application/json\",\n",
    "    \"xi-api-key\": XI_API_KEY\n",
    "}\n",
    "\n",
    "# Bucle a través de las frases y hace la solicitud para cada una\n",
    "for index, text in enumerate(TEXTS_TO_SPEAK_T5):\n",
    "    # Datos para la solicitud, incluyendo el texto y configuraciones de voz\n",
    "    data = {\n",
    "        \"text\": text,\n",
    "        \"model_id\": \"eleven_multilingual_v2\",\n",
    "        \"voice_settings\": {\n",
    "            \"stability\": 0.5,\n",
    "            \"similarity_boost\": 0.8,\n",
    "            \"style\": 0.0,\n",
    "            \"use_speaker_boost\": True\n",
    "        }\n",
    "    }\n",
    "    \n",
    "    # Hacer la solicitud POST para la API de TTS con encabezados y datos, habilitando la respuesta en streaming\n",
    "    response = requests.post(tts_url, headers=headers, json=data, stream=True)\n",
    "    \n",
    "    # Nombre del archivo de salida\n",
    "    output_path = os.path.join(OUTPUT_DIR, f\"{index+1}.mp3\")\n",
    "    \n",
    "    # Verificar si la solicitud fue exitosa\n",
    "    if response.ok:\n",
    "        # Abrir el archivo de salida en modo de escritura binaria\n",
    "        with open(output_path, \"wb\") as f:\n",
    "            # Leer la respuesta en bloques y escribir en el archivo\n",
    "            for chunk in response.iter_content(chunk_size=CHUNK_SIZE):\n",
    "                f.write(chunk)\n",
    "        # Informar al usuario que el audio fue guardado con éxito\n",
    "        print(f\"Audio stream saved successfully to {output_path}.\")\n",
    "    else:\n",
    "        # Imprimir el mensaje de error si la solicitud no fue exitosa\n",
    "        print(f\"Failed to save audio for text: '{text}'. Error: {response.text}\")\n"
   ]
  },
  {
   "cell_type": "code",
   "execution_count": 22,
   "metadata": {},
   "outputs": [],
   "source": [
    "import requests\n",
    "\n",
    "XI_API_KEY = 'sk_6c32b7434c09b33b117d326bcc039414e8bf5fbdbf310922'\n",
    "url = \"https://api.elevenlabs.io/v1/shared-voices\"\n",
    "\n",
    "headers = {\n",
    "    \"xi-api-key\": XI_API_KEY\n",
    "}\n",
    "\n",
    "params = {\n",
    "    \"language\": \"portuguese\"\n",
    "}\n",
    "\n",
    "response = requests.get(url, headers=headers, params=params)\n",
    "data = response.json()"
   ]
  },
  {
   "cell_type": "code",
   "execution_count": 24,
   "metadata": {},
   "outputs": [
    {
     "name": "stdout",
     "output_type": "stream",
     "text": [
      "Lulu; z5Wiw7TIqo9tCUzvq4Yc\n",
      "Will ; kIfcKu9kr8RZrbz7H3ox\n",
      "Greg M - Natural, Conversational ; duHkTtQmj6QYfaOiXceQ\n",
      "Tara - Conversational Expressive Voice; P7vsEyTOpZ6YUTulin8m\n",
      "Shayne - Narrator, RJ Voice; vKnhz1CSirDNQVFqLbul\n",
      "Young Jamal; 6OzrBCQf8cjERkYgzSg8\n",
      "Magic Jack - Super Narrator and Story Teller; W0T33KO9BEThHKbmurx1\n",
      "German Petra - English with hard accent; ztyYYqlYMny7nllhThgo\n",
      "Beatrice Wandsworthy; o0JsuVZWfsLCnWUxPKOW\n",
      "Tara; 4wYIYo1qwewRR49K5aAu\n",
      "Paracrit; DjW94oR4PgyQ4krNpmiD\n",
      "Est 2; YkCxSAVzN6J7VXgYm7WN\n",
      "Christine ; 08x5lo5SPxyFD2VjQkYS\n",
      "Wawi; NvlR4gnvBhch6cgZSq5G\n",
      "Johnson - American Male voice ; H9rGhVjvDtFhHkh3hzVk\n",
      "Philosopher Daniel; 1ZqNYaLHXm4MhZUzxaJW\n",
      "Epiktet Philosoph ; qfydv1ckf7Gwp8ptlbLz\n",
      "Nakiso; pC7rIWMbpc07K3a9Pa9d\n",
      "Ola - African Princess; RLTG7sObICVfmJ2w1egM\n",
      "Luna - Well rounded, insightful, charismatic; ICKTwCUhZRJPsgZYIvtK\n",
      "Ezreal; PfqQtNzoasV6JK0UY37t\n",
      "George; jpbWvwfGMsQkvqCiG2dM\n",
      "Adriano - 44; F1BhJVPjP88brpBVEuKe\n",
      "Adriano - narrador 43; qIiC4FBDyxdzMl6iQCtJ\n",
      "Samuel; W6xDyJbYyLkT4NnnfLkS\n",
      "Paul - Informative & Educational; KLIuhAjzcJsMUh4hqYFA\n",
      "Karen ; jqVMajy0TkayOvIB8eCz\n",
      "Professor Joe; TDU1Scs8uaRkmv0xnctH\n",
      "Chloe - Sassy Highschooler; DjPkuAbNP8lKXjBzQXET\n",
      "Henry; DcBCftI9MCrKeMe3OFfz\n"
     ]
    }
   ],
   "source": [
    "for voice in data['voices']:\n",
    "    print(f\"{voice['name']}; {voice['voice_id']}\")"
   ]
  },
  {
   "cell_type": "code",
   "execution_count": null,
   "metadata": {},
   "outputs": [],
   "source": []
  }
 ],
 "metadata": {
  "kernelspec": {
   "display_name": "proyecto",
   "language": "python",
   "name": "python3"
  },
  "language_info": {
   "codemirror_mode": {
    "name": "ipython",
    "version": 3
   },
   "file_extension": ".py",
   "mimetype": "text/x-python",
   "name": "python",
   "nbconvert_exporter": "python",
   "pygments_lexer": "ipython3",
   "version": "3.12.4"
  }
 },
 "nbformat": 4,
 "nbformat_minor": 2
}
