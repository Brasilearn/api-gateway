{
 "cells": [
  {
   "cell_type": "code",
   "execution_count": 2,
   "metadata": {},
   "outputs": [],
   "source": [
    "import os\n",
    "import sys\n",
    "import openai\n",
    "__file__ = '../../'\n",
    "BASE_DIR = os.path.dirname(os.path.abspath(__file__))\n",
    "sys.path.append(os.path.abspath(__file__))  # Agrega el directorio anterior al PATH\n",
    "\n",
    "from drf import settings\n"
   ]
  },
  {
   "cell_type": "code",
   "execution_count": 46,
   "metadata": {},
   "outputs": [],
   "source": [
    "prompt = 'Ayuda a saludar en portugues'"
   ]
  },
  {
   "cell_type": "code",
   "execution_count": 47,
   "metadata": {},
   "outputs": [],
   "source": [
    "mensajes = [\n",
    "    {\"role\": \"system\", \"content\": \"Eres un asistente virtual que ayuda con preguntas de español a portugues y viceversa.\"},\n",
    "    {\"role\": \"user\", \"content\": prompt},\n",
    "]"
   ]
  },
  {
   "cell_type": "code",
   "execution_count": 48,
   "metadata": {},
   "outputs": [],
   "source": [
    "openai.api_key = settings.API_KEY_OPENAI\n",
    "\n",
    "respuesta = openai.chat.completions.create(\n",
    "    model = 'gpt-3.5-turbo',\n",
    "    messages = mensajes,\n",
    "    max_tokens = 100,\n",
    "    temperature = 0,\n",
    ")"
   ]
  },
  {
   "cell_type": "code",
   "execution_count": 54,
   "metadata": {},
   "outputs": [
    {
     "name": "stdout",
     "output_type": "stream",
     "text": [
      "¡Claro! Aquí tienes algunas formas comunes de saludar en portugués:\n",
      "\n",
      "1. \"Olá\" - Hola\n",
      "2. \"Bom dia\" - Buenos días\n",
      "3. \"Boa tarde\" - Buenas tardes\n",
      "4. \"Boa noite\" - Buenas noches\n",
      "5. \"Oi\" - Hola (informal)\n",
      "6. \"Tudo bem?\" - ¿Cómo estás?\n",
      "7. \"Como vai?\" - ¿\n"
     ]
    }
   ],
   "source": [
    "print(respuesta.choices[0].message.content)"
   ]
  },
  {
   "cell_type": "code",
   "execution_count": 55,
   "metadata": {},
   "outputs": [],
   "source": [
    "def obtener_completion( contexto , model = 'gpt-3.5-turbo'):\n",
    "    mensaje = openai.chat.completions.create(\n",
    "        model = model,\n",
    "        messages = contexto,\n",
    "        max_tokens = 100,\n",
    "        temperature = 0,\n",
    "    )\n",
    "    return mensaje.choices[0].message.content"
   ]
  },
  {
   "cell_type": "code",
   "execution_count": 56,
   "metadata": {},
   "outputs": [],
   "source": [
    "contexto = [\n",
    "    {\"role\": \"system\", \"content\": \"Eres un asistente virtual que ayuda con preguntas de español a portugues y viceversa.\"},\n",
    "    {\"role\": \"user\", \"content\": \"Ayudame a saludar en portugues\"},\n",
    "]\n",
    "\n",
    "respuesta = obtener_completion(contexto)"
   ]
  },
  {
   "cell_type": "code",
   "execution_count": 57,
   "metadata": {},
   "outputs": [
    {
     "name": "stdout",
     "output_type": "stream",
     "text": [
      "¡Claro! Para saludar en portugués puedes decir \"Olá\" que significa \"Hola\" o \"Bom dia\" que significa \"Buenos días\". ¿Hay algo más en lo que pueda ayudarte?\n"
     ]
    }
   ],
   "source": [
    "print(respuesta)"
   ]
  },
  {
   "cell_type": "code",
   "execution_count": 58,
   "metadata": {},
   "outputs": [
    {
     "name": "stdout",
     "output_type": "stream",
     "text": [
      "[{'role': 'user', 'content': 'Ayudame a saludar en portugues'}, {'role': 'system', 'content': '¡Claro! Para saludar en portugués puedes decir \"Olá\" que significa \"Hola\" o \"Bom dia\" que significa \"Buenos días\". ¿Hay algo más en lo que pueda ayudarte?'}]\n"
     ]
    }
   ],
   "source": [
    "# Crearemos un varaible global que contenga el contexto de la conversacion\n",
    "\n",
    "contexto = [{\"role\": \"assistant\", \"content\": \"Ayudame a saludar en portugues\"}]\n",
    "\n",
    "contento = contexto + [{\"role\": \"system\", \"content\": respuesta}]\n",
    "\n",
    "print(contento)"
   ]
  },
  {
   "cell_type": "code",
   "execution_count": 5,
   "metadata": {},
   "outputs": [],
   "source": [
    "contexto = [\n",
    "    {\"role\": \"system\", \"content\": \"Eres un asistente virtual que ayuda con preguntas de español a portugues y viceversa.\"},\n",
    "    {\"role\": \"user\", \"content\": \"Ayudame a saludar en portugues\"},\n",
    "]"
   ]
  },
  {
   "cell_type": "code",
   "execution_count": 6,
   "metadata": {},
   "outputs": [],
   "source": [
    "from groq import Groq\n",
    "\n",
    "groq_client =Groq(\n",
    "    api_key = settings.API_KEY_GROQ,\n",
    ")\n",
    "\n",
    "respuesta = groq_client.chat.completions.create(\n",
    "    model = 'llama3-8b-8192',\n",
    "    messages = contexto,\n",
    "    max_tokens = 300,\n",
    "    temperature = 0,\n",
    ")"
   ]
  },
  {
   "cell_type": "code",
   "execution_count": 9,
   "metadata": {},
   "outputs": [
    {
     "name": "stdout",
     "output_type": "stream",
     "text": [
      "Um prazer!\n",
      "\n",
      "Aquí te dejo algunas opciones para saludar en portugués:\n",
      "\n",
      "* Olá! (OH-lah) - Un saludo informal, similar a \"hola\" en español.\n",
      "* Bom dia! (BOHM DEE-ah) - Un saludo formal para el día, similar a \"buenos días\" en español.\n",
      "* Boa tarde! (BOH-ah TAR-deh) - Un saludo formal para la tarde, similar a\n"
     ]
    }
   ],
   "source": [
    "print(respuesta.choices[0].message.content)"
   ]
  },
  {
   "cell_type": "code",
   "execution_count": null,
   "metadata": {},
   "outputs": [],
   "source": []
  }
 ],
 "metadata": {
  "kernelspec": {
   "display_name": "proyecto",
   "language": "python",
   "name": "python3"
  },
  "language_info": {
   "codemirror_mode": {
    "name": "ipython",
    "version": 3
   },
   "file_extension": ".py",
   "mimetype": "text/x-python",
   "name": "python",
   "nbconvert_exporter": "python",
   "pygments_lexer": "ipython3",
   "version": "3.10.14"
  }
 },
 "nbformat": 4,
 "nbformat_minor": 2
}
