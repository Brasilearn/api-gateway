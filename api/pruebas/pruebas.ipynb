{
 "cells": [
  {
   "cell_type": "code",
   "execution_count": 3,
   "metadata": {},
   "outputs": [],
   "source": [
    "import os\n",
    "import sys\n",
    "import openai\n",
    "__file__ = '../../'\n",
    "BASE_DIR = os.path.dirname(os.path.abspath(__file__))\n",
    "sys.path.append(os.path.abspath(__file__))  # Agrega el directorio anterior al PATH\n",
    "\n",
    "from drf import settings\n"
   ]
  },
  {
   "cell_type": "code",
   "execution_count": 4,
   "metadata": {},
   "outputs": [],
   "source": [
    "prompt = 'Ayuda a saludar en portugues'"
   ]
  },
  {
   "cell_type": "code",
   "execution_count": 5,
   "metadata": {},
   "outputs": [],
   "source": [
    "mensajes = [\n",
    "    {\"role\": \"system\", \"content\": \"Eres un asistente virtual que ayuda con preguntas de español a portugues y viceversa.\"},\n",
    "    {\"role\": \"user\", \"content\": prompt},\n",
    "]"
   ]
  },
  {
   "cell_type": "code",
   "execution_count": 6,
   "metadata": {},
   "outputs": [],
   "source": [
    "openai.api_key = settings.API_KEY_OPENAI\n",
    "\n",
    "respuesta = openai.chat.completions.create(\n",
    "    model = 'gpt-3.5-turbo',\n",
    "    messages = mensajes,\n",
    "    max_tokens = 100,\n",
    "    temperature = 0,\n",
    ")"
   ]
  },
  {
   "cell_type": "code",
   "execution_count": 7,
   "metadata": {},
   "outputs": [
    {
     "name": "stdout",
     "output_type": "stream",
     "text": [
      "¡Claro! Aquí tienes algunas formas de saludar en portugués:\n",
      "\n",
      "- Hola: Olá\n",
      "- Buenos días: Bom dia\n",
      "- Buenas tardes: Boa tarde\n",
      "- Buenas noches: Boa noite\n",
      "\n",
      "Espero que te sean útiles. ¿Hay algo más en lo que pueda ayudarte?\n"
     ]
    }
   ],
   "source": [
    "print(respuesta.choices[0].message.content)"
   ]
  },
  {
   "cell_type": "code",
   "execution_count": 55,
   "metadata": {},
   "outputs": [],
   "source": [
    "def obtener_completion( contexto , model = 'gpt-3.5-turbo'):\n",
    "    mensaje = openai.chat.completions.create(\n",
    "        model = model,\n",
    "        messages = contexto,\n",
    "        max_tokens = 100,\n",
    "        temperature = 0,\n",
    "    )\n",
    "    return mensaje.choices[0].message.content"
   ]
  },
  {
   "cell_type": "code",
   "execution_count": 56,
   "metadata": {},
   "outputs": [],
   "source": [
    "contexto = [\n",
    "    {\"role\": \"system\", \"content\": \"Eres un asistente virtual que ayuda con preguntas de español a portugues y viceversa.\"},\n",
    "    {\"role\": \"user\", \"content\": \"Ayudame a saludar en portugues\"},\n",
    "]\n",
    "\n",
    "respuesta = obtener_completion(contexto)"
   ]
  },
  {
   "cell_type": "code",
   "execution_count": 57,
   "metadata": {},
   "outputs": [
    {
     "name": "stdout",
     "output_type": "stream",
     "text": [
      "¡Claro! Para saludar en portugués puedes decir \"Olá\" que significa \"Hola\" o \"Bom dia\" que significa \"Buenos días\". ¿Hay algo más en lo que pueda ayudarte?\n"
     ]
    }
   ],
   "source": [
    "print(respuesta)"
   ]
  },
  {
   "cell_type": "code",
   "execution_count": 58,
   "metadata": {},
   "outputs": [
    {
     "name": "stdout",
     "output_type": "stream",
     "text": [
      "[{'role': 'user', 'content': 'Ayudame a saludar en portugues'}, {'role': 'system', 'content': '¡Claro! Para saludar en portugués puedes decir \"Olá\" que significa \"Hola\" o \"Bom dia\" que significa \"Buenos días\". ¿Hay algo más en lo que pueda ayudarte?'}]\n"
     ]
    }
   ],
   "source": [
    "# Crearemos un varaible global que contenga el contexto de la conversacion\n",
    "\n",
    "contexto = [{\"role\": \"assistant\", \"content\": \"Ayudame a saludar en portugues\"}]\n",
    "\n",
    "contento = contexto + [{\"role\": \"system\", \"content\": respuesta}]\n",
    "\n",
    "print(contento)"
   ]
  },
  {
   "cell_type": "code",
   "execution_count": 5,
   "metadata": {},
   "outputs": [],
   "source": [
    "contexto = [\n",
    "    {\"role\": \"system\", \"content\": \"Eres un asistente virtual que ayuda con preguntas de español a portugues y viceversa.\"},\n",
    "    {\"role\": \"user\", \"content\": \"Ayudame a saludar en portugues\"},\n",
    "]"
   ]
  },
  {
   "cell_type": "code",
   "execution_count": 11,
   "metadata": {},
   "outputs": [
    {
     "ename": "NameError",
     "evalue": "name 'contexto' is not defined",
     "output_type": "error",
     "traceback": [
      "\u001b[1;31m---------------------------------------------------------------------------\u001b[0m",
      "\u001b[1;31mNameError\u001b[0m                                 Traceback (most recent call last)",
      "Cell \u001b[1;32mIn[11], line 9\u001b[0m\n\u001b[0;32m      1\u001b[0m \u001b[38;5;28;01mfrom\u001b[39;00m \u001b[38;5;21;01mgroq\u001b[39;00m \u001b[38;5;28;01mimport\u001b[39;00m Groq\n\u001b[0;32m      3\u001b[0m groq_client \u001b[38;5;241m=\u001b[39mGroq(\n\u001b[0;32m      4\u001b[0m     api_key \u001b[38;5;241m=\u001b[39m settings\u001b[38;5;241m.\u001b[39mAPI_KEY_GROQ,\n\u001b[0;32m      5\u001b[0m )\n\u001b[0;32m      7\u001b[0m respuesta \u001b[38;5;241m=\u001b[39m groq_client\u001b[38;5;241m.\u001b[39mchat\u001b[38;5;241m.\u001b[39mcompletions\u001b[38;5;241m.\u001b[39mcreate(\n\u001b[0;32m      8\u001b[0m     model \u001b[38;5;241m=\u001b[39m \u001b[38;5;124m'\u001b[39m\u001b[38;5;124mllama3-8b-8192\u001b[39m\u001b[38;5;124m'\u001b[39m,\n\u001b[1;32m----> 9\u001b[0m     messages \u001b[38;5;241m=\u001b[39m \u001b[43mcontexto\u001b[49m, \n\u001b[0;32m     10\u001b[0m     max_tokens \u001b[38;5;241m=\u001b[39m \u001b[38;5;241m300\u001b[39m,   \n\u001b[0;32m     11\u001b[0m     temperature \u001b[38;5;241m=\u001b[39m \u001b[38;5;241m0\u001b[39m,\n\u001b[0;32m     12\u001b[0m )\n",
      "\u001b[1;31mNameError\u001b[0m: name 'contexto' is not defined"
     ]
    }
   ],
   "source": [
    "from groq import Groq\n",
    "\n",
    "groq_client =Groq(\n",
    "    api_key = settings.API_KEY_GROQ,\n",
    ")\n",
    "\n",
    "respuesta = groq_client.chat.completions.create(\n",
    "    model = 'llama3-8b-8192',\n",
    "    messages = contexto, \n",
    "    max_tokens = 300,   \n",
    "    temperature = 0,\n",
    ")"
   ]
  },
  {
   "cell_type": "code",
   "execution_count": 11,
   "metadata": {},
   "outputs": [
    {
     "name": "stdout",
     "output_type": "stream",
     "text": [
      "Um prazer!\n",
      "\n",
      "En portugués, hay varias formas de saludar dependiendo del momento del día y la región. Aquí te presento algunas opciones:\n",
      "\n",
      "* Bom dia (bom DEE-ah): Hola, buenos días\n",
      "* Boa tarde (BOH-ah TAR-deh): Hola, buenas tardes\n",
      "* Boa noite (BOH-ah NOH-ee-teh): Hola, buenas noches\n",
      "* Tudo bem? (TOO-doo BEM): ¿Cómo estás? (una forma informal de saludar)\n",
      "\n",
      "Si deseas ser más formal, puedes usar:\n",
      "\n",
      "* Olá (OH-lah): Hola\n",
      "* Obrigado/Obrigada (oh-bree-GAH-doo/oh-bree-GAH-dah): Gracias (si eres hombre/mujer)\n",
      "\n",
      "Espero que te sea útil!\n"
     ]
    }
   ],
   "source": [
    "print(respuesta.choices[0].message.content)"
   ]
  },
  {
   "cell_type": "code",
   "execution_count": 15,
   "metadata": {},
   "outputs": [
    {
     "name": "stdout",
     "output_type": "stream",
     "text": [
      "[]\n"
     ]
    }
   ],
   "source": [
    "contexto = [{\n",
    "            \"data\": [],\n",
    "            \"personalidad\": \"sad\",\n",
    "        }]\n",
    "print(contexto[0]['data'])"
   ]
  },
  {
   "cell_type": "code",
   "execution_count": 20,
   "metadata": {},
   "outputs": [
    {
     "name": "stdout",
     "output_type": "stream",
     "text": [
      "Recording...\n",
      "Recording finished\n",
      "Transcription:  kawal e o seu nome\n"
     ]
    }
   ],
   "source": [
    "import os\n",
    "import sounddevice as sd\n",
    "from scipy.io.wavfile import write\n",
    "from groq import Groq\n",
    "\n",
    "def record_audio(filename, duration=5, samplerate=44100):\n",
    "    print(\"Recording...\")\n",
    "    audio = sd.rec(int(duration * samplerate), samplerate=samplerate, channels=2, dtype='int16')\n",
    "    sd.wait()  # Esperar a que termine la grabación\n",
    "    write(filename, samplerate, audio)  # Guardar el archivo de audio\n",
    "    print(\"Recording finished\")\n",
    "\n",
    "def transcribe_audio(filename, api_key):\n",
    "    client = Groq(api_key=api_key)\n",
    "\n",
    "    with open(filename, \"rb\") as file:\n",
    "        #translations\n",
    "        #transcriptions\n",
    "        transcription = client.audio.transcriptions.create(\n",
    "            file=(filename, file.read()),\n",
    "            model=\"whisper-large-v3\",\n",
    "            prompt=\"Specify context or spelling\",  # Opcional\n",
    "            response_format=\"json\",  # Opcional\n",
    "            language=\"pt\",  # Opcional\n",
    "            temperature=0.0  # Opcional\n",
    "        )\n",
    "        return transcription.text\n",
    "\n",
    "def main():\n",
    "    audio_filename = \"recorded_audio.wav\"\n",
    "    api_key = settings.API_KEY_GROQ  # Reemplaza con tu API key de Groq\n",
    "    record_audio(audio_filename, duration=5)  # Grabar 5 segundos de audio\n",
    "    transcription = transcribe_audio(audio_filename, api_key)\n",
    "    print(\"Transcription:\", transcription)\n",
    "\n",
    "if __name__ == \"__main__\":\n",
    "    main()\n",
    "\n",
    "# pip install sounddevice scipy"
   ]
  },
  {
   "cell_type": "code",
   "execution_count": 24,
   "metadata": {},
   "outputs": [
    {
     "name": "stdout",
     "output_type": "stream",
     "text": [
      "Recording...\n",
      "Recording finished\n",
      "Transcription:  O que está acontecendo? Texto de referência para comparar.\n",
      "Pronunciation score: 0.71\n"
     ]
    }
   ],
   "source": [
    "import os\n",
    "import sounddevice as sd\n",
    "from scipy.io.wavfile import write\n",
    "from groq import Groq\n",
    "from difflib import SequenceMatcher\n",
    "\n",
    "def record_audio(filename, duration=5, samplerate=44100):\n",
    "    print(\"Recording...\")\n",
    "    audio = sd.rec(int(duration * samplerate), samplerate=samplerate, channels=2, dtype='int16')\n",
    "    sd.wait()  # Esperar a que termine la grabación\n",
    "    write(filename, samplerate, audio)  # Guardar el archivo de audio\n",
    "    print(\"Recording finished\")\n",
    "\n",
    "def transcribe_audio(filename, api_key):\n",
    "    client = Groq(api_key=api_key)\n",
    "\n",
    "    with open(filename, \"rb\") as file:\n",
    "        transcription = client.audio.transcriptions.create(\n",
    "            file=(filename, file.read()),\n",
    "            model=\"whisper-large-v3\",\n",
    "            prompt=\"\",  # Opcional\n",
    "            response_format=\"json\",  # Opcional\n",
    "            language=\"pt\",  # Cambiar a portugués\n",
    "            temperature=0.0  # Opcional\n",
    "        )\n",
    "        return transcription.text\n",
    "\n",
    "def compare_transcription(transcription, reference_text):\n",
    "    # Usar SequenceMatcher para comparar la transcripción con el texto de referencia\n",
    "    matcher = SequenceMatcher(None, transcription, reference_text)\n",
    "    score = matcher.ratio()  # Obtener la similitud entre los dos textos\n",
    "    return score\n",
    "\n",
    "def evaluate_pronunciation(reference_text, duration=5):\n",
    "    audio_filename = \"recorded_audio.wav\"\n",
    "    api_key = os.getenv(\"API_KEY_GROQ\")\n",
    "    if not api_key:\n",
    "        raise ValueError(\"La variable de entorno GROQ_API_KEY no está configurada.\")\n",
    "\n",
    "    record_audio(audio_filename, duration=duration)  # Grabar el audio\n",
    "    transcription = transcribe_audio(audio_filename, api_key)  # Transcribir el audio\n",
    "    print(f\"Transcription: {transcription}\")\n",
    "    \n",
    "    score = compare_transcription(transcription, reference_text)  # Comparar con el texto de referencia\n",
    "    print(f\"Pronunciation score: {score:.2f}\")\n",
    "\n",
    "    return score\n",
    "\n",
    "if __name__ == \"__main__\":\n",
    "    reference_text = \"Este é o texto de referência para comparar.\"  # Texto de referencia en portugués\n",
    "    evaluate_pronunciation(reference_text, duration=5)\n"
   ]
  },
  {
   "cell_type": "code",
   "execution_count": null,
   "metadata": {},
   "outputs": [],
   "source": []
  }
 ],
 "metadata": {
  "kernelspec": {
   "display_name": "proyecto",
   "language": "python",
   "name": "python3"
  },
  "language_info": {
   "codemirror_mode": {
    "name": "ipython",
    "version": 3
   },
   "file_extension": ".py",
   "mimetype": "text/x-python",
   "name": "python",
   "nbconvert_exporter": "python",
   "pygments_lexer": "ipython3",
   "version": "3.12.4"
  }
 },
 "nbformat": 4,
 "nbformat_minor": 2
}
